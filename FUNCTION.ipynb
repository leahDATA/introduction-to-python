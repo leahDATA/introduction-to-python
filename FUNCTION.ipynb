{
 "cells": [
  {
   "cell_type": "code",
   "execution_count": 1,
   "id": "3e983d09-c5d2-44ef-b231-b8fe0c965c24",
   "metadata": {},
   "outputs": [],
   "source": [
    "def family():\n",
    "    print(\"family members\")"
   ]
  },
  {
   "cell_type": "code",
   "execution_count": 3,
   "id": "e355463e-1c4b-4328-a1e5-88d43060d3ab",
   "metadata": {},
   "outputs": [
    {
     "name": "stdout",
     "output_type": "stream",
     "text": [
      "family members\n"
     ]
    }
   ],
   "source": [
    "family()"
   ]
  },
  {
   "cell_type": "code",
   "execution_count": 4,
   "id": "3e126012-1c05-4bb3-9b83-e10768cffa3c",
   "metadata": {},
   "outputs": [],
   "source": [
    "def GenZ():\n",
    "    print(\"Ruto must go\")"
   ]
  },
  {
   "cell_type": "code",
   "execution_count": 5,
   "id": "1368350e-5638-4930-ae0e-fad814a7d6b2",
   "metadata": {},
   "outputs": [
    {
     "name": "stdout",
     "output_type": "stream",
     "text": [
      "Ruto must go\n"
     ]
    }
   ],
   "source": [
    "GenZ()"
   ]
  },
  {
   "cell_type": "code",
   "execution_count": 13,
   "id": "5e3a4a5f-2b17-45b8-96b2-2c7864db17ee",
   "metadata": {},
   "outputs": [],
   "source": [
    "def add(a,b):\n",
    "    result=a+b\n",
    "    print(result)\n",
    "    return result"
   ]
  },
  {
   "cell_type": "code",
   "execution_count": 9,
   "id": "677b01fe-fcd5-4842-b312-f0879ab0c0e0",
   "metadata": {},
   "outputs": [
    {
     "name": "stdout",
     "output_type": "stream",
     "text": [
      "12\n"
     ]
    }
   ],
   "source": [
    "add(6,6)"
   ]
  },
  {
   "cell_type": "code",
   "execution_count": 10,
   "id": "62edeb3b-cd9e-4e5f-ae66-f223883f92bf",
   "metadata": {},
   "outputs": [
    {
     "name": "stdout",
     "output_type": "stream",
     "text": [
      "12\n"
     ]
    }
   ],
   "source": [
    "x=add(6,6)"
   ]
  },
  {
   "cell_type": "code",
   "execution_count": 14,
   "id": "3a3f7282-3754-416e-9604-cb770704df97",
   "metadata": {},
   "outputs": [],
   "source": [
    "x"
   ]
  },
  {
   "cell_type": "code",
   "execution_count": 16,
   "id": "fdfe544f-1001-4939-8ba9-2e6069efde1f",
   "metadata": {},
   "outputs": [
    {
     "ename": "SyntaxError",
     "evalue": "invalid syntax (3932373458.py, line 1)",
     "output_type": "error",
     "traceback": [
      "\u001b[1;36m  Cell \u001b[1;32mIn[16], line 1\u001b[1;36m\u001b[0m\n\u001b[1;33m    x=add(6,\"men\")            you cannot add an integer and a string\u001b[0m\n\u001b[1;37m                              ^\u001b[0m\n\u001b[1;31mSyntaxError\u001b[0m\u001b[1;31m:\u001b[0m invalid syntax\n"
     ]
    }
   ],
   "source": [
    "x=add(6,\"men\")            you cannot add an integer and a string"
   ]
  },
  {
   "cell_type": "code",
   "execution_count": 17,
   "id": "44b22f9f-5a9b-4d06-b798-d26f144e1c4c",
   "metadata": {},
   "outputs": [
    {
     "data": {
      "text/plain": [
       "4"
      ]
     },
     "execution_count": 17,
     "metadata": {},
     "output_type": "execute_result"
    }
   ],
   "source": [
    "min(4,5,7)"
   ]
  },
  {
   "cell_type": "code",
   "execution_count": 18,
   "id": "7f2513bd-2e89-410a-b6ed-e428d51f86f0",
   "metadata": {},
   "outputs": [
    {
     "data": {
      "text/plain": [
       "98"
      ]
     },
     "execution_count": 18,
     "metadata": {},
     "output_type": "execute_result"
    }
   ],
   "source": [
    "max(67,98,34)"
   ]
  },
  {
   "cell_type": "code",
   "execution_count": 20,
   "id": "95d18cf1-5592-45f5-b8ef-9f9f5e7e37fd",
   "metadata": {},
   "outputs": [
    {
     "data": {
      "text/plain": [
       "10"
      ]
     },
     "execution_count": 20,
     "metadata": {},
     "output_type": "execute_result"
    }
   ],
   "source": [
    "len(\"maandamano\")"
   ]
  },
  {
   "cell_type": "code",
   "execution_count": 21,
   "id": "6574335d-feed-40dd-957a-0042339006c1",
   "metadata": {},
   "outputs": [
    {
     "data": {
      "text/plain": [
       "56"
      ]
     },
     "execution_count": 21,
     "metadata": {},
     "output_type": "execute_result"
    }
   ],
   "source": [
    "abs(56)"
   ]
  },
  {
   "cell_type": "code",
   "execution_count": 22,
   "id": "de34c9c8-7e77-49e5-87ec-9f6e68d3ebe7",
   "metadata": {},
   "outputs": [
    {
     "name": "stdout",
     "output_type": "stream",
     "text": [
      "1\n"
     ]
    }
   ],
   "source": [
    "my_list=[1,2,3,4,5]\n",
    "print(my_list[0])          "
   ]
  },
  {
   "cell_type": "code",
   "execution_count": 23,
   "id": "28741195-f3b1-4a63-9d2c-378e3072b009",
   "metadata": {},
   "outputs": [
    {
     "data": {
      "text/plain": [
       "'wiu'"
      ]
     },
     "execution_count": 23,
     "metadata": {},
     "output_type": "execute_result"
    }
   ],
   "source": [
    "grocery=(\"tomato\",\"wiu\",\"onion\")\n",
    "grocery[1]"
   ]
  },
  {
   "cell_type": "code",
   "execution_count": 24,
   "id": "02f37a49-5346-4b9c-98a3-27cf81350607",
   "metadata": {},
   "outputs": [
    {
     "name": "stdout",
     "output_type": "stream",
     "text": [
      "tomato\n",
      "wiu\n",
      "onion\n",
      "('tomato', 'wiu', 'onion')\n"
     ]
    }
   ],
   "source": [
    "ind=0\n",
    "for item in grocery:\n",
    "    print(item)\n",
    "\n",
    "print(grocery)"
   ]
  },
  {
   "cell_type": "code",
   "execution_count": 4,
   "id": "83e44be2-7fd6-4d0f-b6c5-ce59eb0f0562",
   "metadata": {},
   "outputs": [
    {
     "name": "stdout",
     "output_type": "stream",
     "text": [
      "['tomato', 'wiu', 'kitungu']\n"
     ]
    }
   ],
   "source": [
    "ind=0\n",
    "grocery=[\"tomato\",\"wiu\",\"onion\"]\n",
    "\n",
    "for item in grocery:\n",
    "    if item==\"onion\":\n",
    "        grocery[ind]=\"kitungu\"\n",
    "    ind=ind+1\n",
    "print(grocery)"
   ]
  },
  {
   "cell_type": "code",
   "execution_count": null,
   "id": "1573c93e-eee2-46d5-8f4f-9b4813b9fc4a",
   "metadata": {},
   "outputs": [],
   "source": []
  },
  {
   "cell_type": "code",
   "execution_count": 5,
   "id": "73a1bf70-0f92-4bb7-9020-466f5b5710b7",
   "metadata": {},
   "outputs": [
    {
     "name": "stdout",
     "output_type": "stream",
     "text": [
      "['tomato', 'wiu', 'kitungu', 'cabbage']\n"
     ]
    }
   ],
   "source": [
    "grocery.append(\"cabbage\")\n",
    "print(grocery)"
   ]
  },
  {
   "cell_type": "code",
   "execution_count": 6,
   "id": "9d704ddf-443e-49c6-a8fb-d93e05b16e6e",
   "metadata": {},
   "outputs": [
    {
     "data": {
      "text/plain": [
       "['tomato', 'wiu', 'kitungu', 'cabbage']"
      ]
     },
     "execution_count": 6,
     "metadata": {},
     "output_type": "execute_result"
    }
   ],
   "source": [
    "grocery.copy()"
   ]
  },
  {
   "cell_type": "code",
   "execution_count": null,
   "id": "d53ff795-90d5-4da1-99ea-ad37bce2afe0",
   "metadata": {},
   "outputs": [],
   "source": []
  }
 ],
 "metadata": {
  "kernelspec": {
   "display_name": "Python 3 (ipykernel)",
   "language": "python",
   "name": "python3"
  },
  "language_info": {
   "codemirror_mode": {
    "name": "ipython",
    "version": 3
   },
   "file_extension": ".py",
   "mimetype": "text/x-python",
   "name": "python",
   "nbconvert_exporter": "python",
   "pygments_lexer": "ipython3",
   "version": "3.12.4"
  }
 },
 "nbformat": 4,
 "nbformat_minor": 5
}
