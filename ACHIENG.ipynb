{
 "cells": [
  {
   "cell_type": "code",
   "execution_count": 1,
   "id": "8158fa5f-1a68-4ee2-9d72-666f7794669c",
   "metadata": {},
   "outputs": [],
   "source": [
    "first=\"Leah\"\n",
    "second=\"Achi\""
   ]
  },
  {
   "cell_type": "code",
   "execution_count": 2,
   "id": "44eab1c7-1a95-47f4-85d7-ea439fb86bc7",
   "metadata": {},
   "outputs": [
    {
     "data": {
      "text/plain": [
       "'Leah Achi'"
      ]
     },
     "execution_count": 2,
     "metadata": {},
     "output_type": "execute_result"
    }
   ],
   "source": [
    "first+\" \"+second"
   ]
  },
  {
   "cell_type": "code",
   "execution_count": 3,
   "id": "c63422bc-a65c-4443-81af-bdd2ba31a33e",
   "metadata": {},
   "outputs": [],
   "source": [
    "first=\"Val\"\n",
    "second=\"oty\""
   ]
  },
  {
   "cell_type": "code",
   "execution_count": 4,
   "id": "e8945eb3-84ed-48b1-986b-01863186db6b",
   "metadata": {},
   "outputs": [
    {
     "data": {
      "text/plain": [
       "'Val oty'"
      ]
     },
     "execution_count": 4,
     "metadata": {},
     "output_type": "execute_result"
    }
   ],
   "source": [
    "first+\" \"+second"
   ]
  },
  {
   "cell_type": "code",
   "execution_count": 5,
   "id": "a726b3bf-ecff-4aec-86c0-601416128d6a",
   "metadata": {},
   "outputs": [],
   "source": [
    "first=\"ven\"\n",
    "second=\"auma\""
   ]
  },
  {
   "cell_type": "code",
   "execution_count": 6,
   "id": "4a57ee9e-8a91-4996-b0bf-a55873a78f6e",
   "metadata": {},
   "outputs": [
    {
     "data": {
      "text/plain": [
       "'ven auma'"
      ]
     },
     "execution_count": 6,
     "metadata": {},
     "output_type": "execute_result"
    }
   ],
   "source": [
    "first+\" \"+second"
   ]
  },
  {
   "cell_type": "code",
   "execution_count": 7,
   "id": "9d45cbcd-8253-4d4c-bde2-a9df9f105578",
   "metadata": {},
   "outputs": [],
   "source": [
    "second= \"Otieno\""
   ]
  },
  {
   "cell_type": "code",
   "execution_count": 8,
   "id": "c15fa121-7887-4afc-8918-e63c562fcb5a",
   "metadata": {},
   "outputs": [
    {
     "data": {
      "text/plain": [
       "'O'"
      ]
     },
     "execution_count": 8,
     "metadata": {},
     "output_type": "execute_result"
    }
   ],
   "source": [
    "second[0]"
   ]
  },
  {
   "cell_type": "code",
   "execution_count": 9,
   "id": "293c4b93-d1ef-42f6-9e67-82fe104bbecc",
   "metadata": {},
   "outputs": [
    {
     "data": {
      "text/plain": [
       "'o'"
      ]
     },
     "execution_count": 9,
     "metadata": {},
     "output_type": "execute_result"
    }
   ],
   "source": [
    "second[5]"
   ]
  },
  {
   "cell_type": "code",
   "execution_count": 10,
   "id": "bbf96b06-1e5a-4330-b5f6-2a632cd36536",
   "metadata": {},
   "outputs": [
    {
     "data": {
      "text/plain": [
       "'ven Otieno'"
      ]
     },
     "execution_count": 10,
     "metadata": {},
     "output_type": "execute_result"
    }
   ],
   "source": [
    "fullname=first+\" \"+second\n",
    "fullname"
   ]
  },
  {
   "cell_type": "code",
   "execution_count": 11,
   "id": "fe2a28bf-814b-46b0-8a21-5906141c8f1a",
   "metadata": {},
   "outputs": [
    {
     "data": {
      "text/plain": [
       "'ven'"
      ]
     },
     "execution_count": 11,
     "metadata": {},
     "output_type": "execute_result"
    }
   ],
   "source": [
    "fullname[0:3]"
   ]
  },
  {
   "cell_type": "code",
   "execution_count": 12,
   "id": "5f8829fb-f5fa-4988-86f5-ec4eff0f33f0",
   "metadata": {},
   "outputs": [
    {
     "data": {
      "text/plain": [
       "'tieno'"
      ]
     },
     "execution_count": 12,
     "metadata": {},
     "output_type": "execute_result"
    }
   ],
   "source": [
    "fullname[-5:]"
   ]
  },
  {
   "cell_type": "code",
   "execution_count": 13,
   "id": "9cc75a01-04eb-4505-83b9-825a7484618e",
   "metadata": {},
   "outputs": [
    {
     "name": "stdout",
     "output_type": "stream",
     "text": [
      "eno\n"
     ]
    },
    {
     "data": {
      "text/plain": [
       "'ven'"
      ]
     },
     "execution_count": 13,
     "metadata": {},
     "output_type": "execute_result"
    }
   ],
   "source": [
    "print(fullname[7:13])\n",
    "fullname[0:3]"
   ]
  },
  {
   "cell_type": "code",
   "execution_count": 14,
   "id": "e982ae55-2ce5-4bfb-89e0-0f004aace4e8",
   "metadata": {},
   "outputs": [
    {
     "name": "stdout",
     "output_type": "stream",
     "text": [
      "0\n",
      "1\n",
      "2\n",
      "3\n",
      "4\n",
      "5\n",
      "6\n",
      "7\n",
      "8\n",
      "9\n",
      "10\n"
     ]
    }
   ],
   "source": [
    "for i in range (11):\n",
    "    print(i)"
   ]
  },
  {
   "cell_type": "code",
   "execution_count": 3,
   "id": "2780bf79-9312-46bf-a6ad-d1e5764b5d05",
   "metadata": {},
   "outputs": [
    {
     "name": "stdout",
     "output_type": "stream",
     "text": [
      "1,2,3,4,5,6,7,8,9,10,"
     ]
    }
   ],
   "source": [
    "#1,2,3,4,5,6,7,8,9,10 \n",
    "for x in range(1,11):\n",
    "    print(x, end=\",\")"
   ]
  },
  {
   "cell_type": "code",
   "execution_count": 25,
   "id": "7d7fe5d7-6e9d-4f26-9b20-0fbc0190912f",
   "metadata": {},
   "outputs": [
    {
     "name": "stdout",
     "output_type": "stream",
     "text": [
      "1,2,3,4,5,6,7,8,9,10,\n",
      " 55\n"
     ]
    }
   ],
   "source": [
    "#1,2,3,4,5,6,7,8,9,10\n",
    "total=0\n",
    "\n",
    "for x in range(1,11):\n",
    "    total+=x\n",
    "    print(x, end=\",\")\n",
    "\n",
    "print('\\n',total)"
   ]
  },
  {
   "cell_type": "code",
   "execution_count": 14,
   "id": "1e6c3360-9ab2-46e5-a37d-e1bb915258fd",
   "metadata": {},
   "outputs": [
    {
     "name": "stdin",
     "output_type": "stream",
     "text": [
      "Enter Age: 60\n",
      "Enter Age: 56\n",
      "Enter Age: 70\n",
      "Enter Age: 70\n"
     ]
    },
    {
     "name": "stdout",
     "output_type": "stream",
     "text": [
      "256 64.0\n"
     ]
    }
   ],
   "source": [
    "x=int(input(\"Enter Age:\"))\n",
    "y=int(input(\"Enter Age:\"))\n",
    "z=int(input(\"Enter Age:\"))\n",
    "xy=int(input(\"Enter Age:\"))\n",
    "\n",
    "total=x+y+z+xy\n",
    "average=total/4\n",
    "\n",
    "print(total,average)\n"
   ]
  },
  {
   "cell_type": "code",
   "execution_count": 24,
   "id": "b7a30eb2-e58e-468f-855a-e4a7483e3618",
   "metadata": {},
   "outputs": [
    {
     "name": "stdin",
     "output_type": "stream",
     "text": [
      "Enter Age 50\n",
      "Enter Age 55\n",
      "Enter Age 67\n",
      "Enter Age 89\n"
     ]
    },
    {
     "name": "stdout",
     "output_type": "stream",
     "text": [
      "\n",
      " 261 65.25\n"
     ]
    }
   ],
   "source": [
    "total=0\n",
    "for x in range(4):\n",
    "    x= int(input(\"Enter Age\"))\n",
    "    total+=x\n",
    "      \n",
    "print('\\n',total, total/4)"
   ]
  },
  {
   "cell_type": "code",
   "execution_count": null,
   "id": "47d8cacd-b40a-4593-8941-884a29a00c23",
   "metadata": {},
   "outputs": [],
   "source": [
    "Assignment 1\n",
    "Write a loop that receives 5 scores from the keyboard and display the average of 5 values"
   ]
  },
  {
   "cell_type": "code",
   "execution_count": 29,
   "id": "d580ff92-6506-4ff5-aa7e-4dfe4edbd191",
   "metadata": {},
   "outputs": [
    {
     "name": "stdin",
     "output_type": "stream",
     "text": [
      "scores 54\n",
      "scores 56\n",
      "scores 67\n",
      "scores 78\n",
      "scores 89\n"
     ]
    },
    {
     "name": "stdout",
     "output_type": "stream",
     "text": [
      "\n",
      " 344 68.8\n"
     ]
    }
   ],
   "source": [
    "total=0\n",
    "for x in range(5):\n",
    "    x=int(input(\"scores\"))\n",
    "    total+=x\n",
    "\n",
    "print('\\n',total,total/5)"
   ]
  },
  {
   "cell_type": "code",
   "execution_count": 30,
   "id": "fdc067ec-145f-4294-af41-08abc752f9ec",
   "metadata": {},
   "outputs": [
    {
     "ename": "SyntaxError",
     "evalue": "invalid syntax (1841225911.py, line 1)",
     "output_type": "error",
     "traceback": [
      "\u001b[1;36m  Cell \u001b[1;32mIn[30], line 1\u001b[1;36m\u001b[0m\n\u001b[1;33m    USING WHILE LOOP\u001b[0m\n\u001b[1;37m          ^\u001b[0m\n\u001b[1;31mSyntaxError\u001b[0m\u001b[1;31m:\u001b[0m invalid syntax\n"
     ]
    }
   ],
   "source": [
    "USING WHILE LOOP"
   ]
  },
  {
   "cell_type": "code",
   "execution_count": 38,
   "id": "cf30fc8a-f17f-4f47-92fb-8d0e3bf856be",
   "metadata": {},
   "outputs": [
    {
     "name": "stdin",
     "output_type": "stream",
     "text": [
      "Enter Age 34\n",
      "Enter Age 45\n",
      "Enter Age 56\n",
      "Enter Age 67\n"
     ]
    },
    {
     "name": "stdout",
     "output_type": "stream",
     "text": [
      "50.5\n"
     ]
    }
   ],
   "source": [
    "count=0\n",
    "total=0\n",
    "while count < 4:\n",
    "    x=int(input(\"Enter Age\"))\n",
    "    total+=x\n",
    "    count+=1\n",
    "\n",
    "print(total/count)"
   ]
  },
  {
   "cell_type": "code",
   "execution_count": 43,
   "id": "4e7cf671-9703-43bb-a51e-675bd32ec0ce",
   "metadata": {},
   "outputs": [
    {
     "name": "stdout",
     "output_type": "stream",
     "text": [
      "D\n"
     ]
    }
   ],
   "source": [
    "score=67\n",
    "\n",
    "if score>=90:\n",
    "    print(\"A\")\n",
    "elif score>=80:\n",
    "    print(\"B\")\n",
    "elif score >=70:\n",
    "    print(\"C\")\n",
    "elif score>=60:    THE EXECUTION STOPS HERE BCZ ITS TRUE. if not true then it will move and print \"E\" \n",
    "    print(\"D\")\n",
    "else:\n",
    "    print(\"E\")\n",
    "    "
   ]
  },
  {
   "cell_type": "code",
   "execution_count": 45,
   "id": "441e9336-997d-430e-98a7-4f4b881c7d70",
   "metadata": {},
   "outputs": [
    {
     "name": "stdin",
     "output_type": "stream",
     "text": [
      "Name Caro\n",
      "Name Mercy\n",
      "Name Leah\n"
     ]
    }
   ],
   "source": [
    "check=True\n",
    "while check:\n",
    "    name=input(\"Name\")\n",
    "    if \"Leah\" in name:\n",
    "        check=False"
   ]
  },
  {
   "cell_type": "code",
   "execution_count": 50,
   "id": "5d9866c4-df7f-471c-9ffb-3c6060eaede8",
   "metadata": {},
   "outputs": [
    {
     "name": "stdin",
     "output_type": "stream",
     "text": [
      "Name Caro\n",
      "Name Mercy\n",
      "Name Leah\n"
     ]
    }
   ],
   "source": [
    "check=True\n",
    "while check:\n",
    "    name=input(\"Name\")\n",
    "    if \"Leah\" in name:\n",
    "        check=False\n",
    "    elif 'leah' in name:\n",
    "        check=False"
   ]
  },
  {
   "cell_type": "raw",
   "id": "762ec331-d999-43d1-bf06-122461b5a4bc",
   "metadata": {},
   "source": [
    "check=True\n",
    "while check:\n",
    "    name=input(\"Name\")\n",
    "    if \"Leah\" in name or 'leah' in name:\n",
    "    check:False\n"
   ]
  },
  {
   "cell_type": "code",
   "execution_count": null,
   "id": "c5b44882-493d-4c08-be8c-481e87f41a3b",
   "metadata": {},
   "outputs": [],
   "source": []
  }
 ],
 "metadata": {
  "kernelspec": {
   "display_name": "Python 3 (ipykernel)",
   "language": "python",
   "name": "python3"
  },
  "language_info": {
   "codemirror_mode": {
    "name": "ipython",
    "version": 3
   },
   "file_extension": ".py",
   "mimetype": "text/x-python",
   "name": "python",
   "nbconvert_exporter": "python",
   "pygments_lexer": "ipython3",
   "version": "3.12.4"
  }
 },
 "nbformat": 4,
 "nbformat_minor": 5
}
