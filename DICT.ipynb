{
 "cells": [
  {
   "cell_type": "code",
   "execution_count": null,
   "id": "908a779b-a20a-4521-9892-f0c39f32200d",
   "metadata": {},
   "outputs": [],
   "source": []
  },
  {
   "cell_type": "code",
   "execution_count": 11,
   "id": "55dff2fc-2b82-4f62-9c50-c35502727fb2",
   "metadata": {},
   "outputs": [],
   "source": [
    "my_dictionary={\n",
    "    \"name\":\"person 2\",\n",
    "    \"age\":35,\n",
    "    \"salary\":400\n",
    "}"
   ]
  },
  {
   "cell_type": "code",
   "execution_count": 12,
   "id": "584d7eea-1d0d-4b94-9476-282472564c30",
   "metadata": {},
   "outputs": [
    {
     "name": "stdout",
     "output_type": "stream",
     "text": [
      "{'name': 'person 2', 'age': 35, 'salary': 400}\n"
     ]
    }
   ],
   "source": [
    "print(my_dictionary)"
   ]
  },
  {
   "cell_type": "code",
   "execution_count": 14,
   "id": "17c3430b-001a-4dd7-9b1d-caa97c34025c",
   "metadata": {},
   "outputs": [],
   "source": [
    "my_dictionary={\n",
    "    \"name\":[\"person 1\",\"person 2\",\"person 3\",\"person 3\",\"person 4\",\"person 5\",],\n",
    "    \"age\":[35,100,34,456,67],\n",
    "}"
   ]
  },
  {
   "cell_type": "code",
   "execution_count": 15,
   "id": "f0d58a73-6abc-4a02-a744-c852d5c147b0",
   "metadata": {},
   "outputs": [
    {
     "data": {
      "text/plain": [
       "{'name': ['person 1',\n",
       "  'person 2',\n",
       "  'person 3',\n",
       "  'person 3',\n",
       "  'person 4',\n",
       "  'person 5'],\n",
       " 'age': [35, 100, 34, 456, 67]}"
      ]
     },
     "execution_count": 15,
     "metadata": {},
     "output_type": "execute_result"
    }
   ],
   "source": [
    "my_dictionary"
   ]
  },
  {
   "cell_type": "code",
   "execution_count": 47,
   "id": "9dd2e7c1-d1fc-4aa5-900a-902554538de5",
   "metadata": {},
   "outputs": [],
   "source": [
    "#sorting data information of more than one person\n",
    "my_dictionary={\n",
    "    \"name\":[\"person 1\",\"person 2\",\"person 3\",\"person 4\",\"person 5\",],\n",
    "    \"age\":[35,100,34,456,67],\n",
    "    \"salary\":[4000,5000,6000,7000,8000]\n",
    "}"
   ]
  },
  {
   "cell_type": "code",
   "execution_count": 49,
   "id": "a3fcb7b3-31a7-4766-9481-2c52c98c0134",
   "metadata": {},
   "outputs": [
    {
     "data": {
      "text/plain": [
       "{'name': ['person 1', 'person 2', 'person 3', 'person 4', 'person 5'],\n",
       " 'age': [35, 100, 34, 456, 67],\n",
       " 'salary': [4000, 5000, 6000, 7000, 8000]}"
      ]
     },
     "execution_count": 49,
     "metadata": {},
     "output_type": "execute_result"
    }
   ],
   "source": [
    "my_dictionary"
   ]
  },
  {
   "cell_type": "code",
   "execution_count": null,
   "id": "eea05e5b-cd9f-49ed-b008-6c6c2998ab91",
   "metadata": {},
   "outputs": [],
   "source": [
    "my_dictionary['location']=[\"mombasa\",\"kisumu\",\"nairobi\",\"migori\",\"kisii\"]"
   ]
  },
  {
   "cell_type": "code",
   "execution_count": 18,
   "id": "3d8847d3-bf83-46d5-9302-43729a8ced41",
   "metadata": {},
   "outputs": [
    {
     "data": {
      "text/plain": [
       "{'name': ['person 1',\n",
       "  'person 2',\n",
       "  'person 3',\n",
       "  'person 3',\n",
       "  'person 4',\n",
       "  'person 5'],\n",
       " 'age': [35, 100, 34, 456, 67],\n",
       " 'salary': [4000, 5000, 6000, 7000, 8000]}"
      ]
     },
     "execution_count": 18,
     "metadata": {},
     "output_type": "execute_result"
    }
   ],
   "source": [
    "my_dictionary"
   ]
  },
  {
   "cell_type": "code",
   "execution_count": 35,
   "id": "055a5149-3dbd-403b-aa65-edd8c472bccb",
   "metadata": {},
   "outputs": [],
   "source": [
    "import pandas as pd"
   ]
  },
  {
   "cell_type": "code",
   "execution_count": 50,
   "id": "596f754b-3012-4afe-8df1-0fc0d9919e23",
   "metadata": {},
   "outputs": [
    {
     "data": {
      "text/plain": [
       "{'name': ['person 1', 'person 2', 'person 3', 'person 4', 'person 5'],\n",
       " 'age': [35, 100, 34, 456, 67],\n",
       " 'salary': [4000, 5000, 6000, 7000, 8000]}"
      ]
     },
     "execution_count": 50,
     "metadata": {},
     "output_type": "execute_result"
    }
   ],
   "source": [
    "my_dictionary"
   ]
  },
  {
   "cell_type": "code",
   "execution_count": 67,
   "id": "7e9a55ef-6aa1-4f60-9cb1-5bf61b3eab6e",
   "metadata": {},
   "outputs": [],
   "source": [
    "my_dictionary[\"location\"]=[\"nairobi\",\"kisumu\",\"kisii\",\"nyeri\",\"lamu\"]"
   ]
  },
  {
   "cell_type": "code",
   "execution_count": 68,
   "id": "d9b696f1-433b-4429-b6bd-2427101cfd32",
   "metadata": {},
   "outputs": [
    {
     "data": {
      "text/plain": [
       "{'name': ['person 1', 'person 2', 'person 3', 'person 4', 'person 5'],\n",
       " 'age': [35, 100, 34, 456, 67],\n",
       " 'salary': [4000, 5000, 6000, 7000, 8000],\n",
       " 'location': ['nairobi', 'kisumu', 'kisii', 'nyeri', 'lamu']}"
      ]
     },
     "execution_count": 68,
     "metadata": {},
     "output_type": "execute_result"
    }
   ],
   "source": [
    "my_dictionary"
   ]
  },
  {
   "cell_type": "code",
   "execution_count": null,
   "id": "bab5a667-41b9-4060-85cb-d1339063a3cf",
   "metadata": {},
   "outputs": [],
   "source": [
    "del my_dictionary(\"location\")"
   ]
  },
  {
   "cell_type": "code",
   "execution_count": 70,
   "id": "e33cdc22-bde0-47a3-9973-18b2181dfb9c",
   "metadata": {},
   "outputs": [
    {
     "data": {
      "text/plain": [
       "{'name': ['person 1', 'person 2', 'person 3', 'person 4', 'person 5'],\n",
       " 'age': [35, 100, 34, 456, 67],\n",
       " 'salary': [4000, 5000, 6000, 7000, 8000],\n",
       " 'location': ['nairobi', 'kisumu', 'kisii', 'nyeri', 'lamu']}"
      ]
     },
     "execution_count": 70,
     "metadata": {},
     "output_type": "execute_result"
    }
   ],
   "source": [
    "my_dictionary"
   ]
  },
  {
   "cell_type": "code",
   "execution_count": null,
   "id": "6429e006-e5dd-4b52-8cc6-9ec506a73ce1",
   "metadata": {},
   "outputs": [],
   "source": [
    "my_dictionary(\"age\")"
   ]
  },
  {
   "cell_type": "code",
   "execution_count": 72,
   "id": "f629ddcc-a658-4374-81fb-0fc85049d604",
   "metadata": {},
   "outputs": [
    {
     "data": {
      "text/plain": [
       "{'name': ['person 1', 'person 2', 'person 3', 'person 4', 'person 5'],\n",
       " 'age': [35, 100, 34, 456, 67],\n",
       " 'salary': [4000, 5000, 6000, 7000, 8000],\n",
       " 'location': ['nairobi', 'kisumu', 'kisii', 'nyeri', 'lamu']}"
      ]
     },
     "execution_count": 72,
     "metadata": {},
     "output_type": "execute_result"
    }
   ],
   "source": [
    "my_dictionary"
   ]
  },
  {
   "cell_type": "code",
   "execution_count": 73,
   "id": "d7a65f89-ada5-44b6-a0a0-189469cb3455",
   "metadata": {},
   "outputs": [],
   "source": [
    "import pandas as pd"
   ]
  },
  {
   "cell_type": "code",
   "execution_count": 52,
   "id": "eb600893-d741-4cb9-9cf2-33bd63274d20",
   "metadata": {},
   "outputs": [],
   "source": [
    "df=pd.DataFrame(my_dictionary)           df-function data frame-converting dictionary to a table"
   ]
  },
  {
   "cell_type": "code",
   "execution_count": 55,
   "id": "1a1c45a5-dbe7-47a5-8f53-737c6260fa68",
   "metadata": {},
   "outputs": [
    {
     "data": {
      "text/html": [
       "<div>\n",
       "<style scoped>\n",
       "    .dataframe tbody tr th:only-of-type {\n",
       "        vertical-align: middle;\n",
       "    }\n",
       "\n",
       "    .dataframe tbody tr th {\n",
       "        vertical-align: top;\n",
       "    }\n",
       "\n",
       "    .dataframe thead th {\n",
       "        text-align: right;\n",
       "    }\n",
       "</style>\n",
       "<table border=\"1\" class=\"dataframe\">\n",
       "  <thead>\n",
       "    <tr style=\"text-align: right;\">\n",
       "      <th></th>\n",
       "      <th>name</th>\n",
       "      <th>age</th>\n",
       "      <th>salary</th>\n",
       "    </tr>\n",
       "  </thead>\n",
       "  <tbody>\n",
       "    <tr>\n",
       "      <th>0</th>\n",
       "      <td>person 1</td>\n",
       "      <td>35</td>\n",
       "      <td>4000</td>\n",
       "    </tr>\n",
       "    <tr>\n",
       "      <th>1</th>\n",
       "      <td>person 2</td>\n",
       "      <td>100</td>\n",
       "      <td>5000</td>\n",
       "    </tr>\n",
       "    <tr>\n",
       "      <th>2</th>\n",
       "      <td>person 3</td>\n",
       "      <td>34</td>\n",
       "      <td>6000</td>\n",
       "    </tr>\n",
       "    <tr>\n",
       "      <th>3</th>\n",
       "      <td>person 4</td>\n",
       "      <td>456</td>\n",
       "      <td>7000</td>\n",
       "    </tr>\n",
       "    <tr>\n",
       "      <th>4</th>\n",
       "      <td>person 5</td>\n",
       "      <td>67</td>\n",
       "      <td>8000</td>\n",
       "    </tr>\n",
       "  </tbody>\n",
       "</table>\n",
       "</div>"
      ],
      "text/plain": [
       "       name  age  salary\n",
       "0  person 1   35    4000\n",
       "1  person 2  100    5000\n",
       "2  person 3   34    6000\n",
       "3  person 4  456    7000\n",
       "4  person 5   67    8000"
      ]
     },
     "execution_count": 55,
     "metadata": {},
     "output_type": "execute_result"
    }
   ],
   "source": [
    "df"
   ]
  },
  {
   "cell_type": "code",
   "execution_count": 60,
   "id": "b1c8d071-41c1-4517-840e-a1b17001c24e",
   "metadata": {},
   "outputs": [
    {
     "data": {
      "text/html": [
       "<div>\n",
       "<style scoped>\n",
       "    .dataframe tbody tr th:only-of-type {\n",
       "        vertical-align: middle;\n",
       "    }\n",
       "\n",
       "    .dataframe tbody tr th {\n",
       "        vertical-align: top;\n",
       "    }\n",
       "\n",
       "    .dataframe thead th {\n",
       "        text-align: right;\n",
       "    }\n",
       "</style>\n",
       "<table border=\"1\" class=\"dataframe\">\n",
       "  <thead>\n",
       "    <tr style=\"text-align: right;\">\n",
       "      <th></th>\n",
       "      <th>name</th>\n",
       "      <th>age</th>\n",
       "    </tr>\n",
       "  </thead>\n",
       "  <tbody>\n",
       "    <tr>\n",
       "      <th>0</th>\n",
       "      <td>person 1</td>\n",
       "      <td>35</td>\n",
       "    </tr>\n",
       "    <tr>\n",
       "      <th>1</th>\n",
       "      <td>person 2</td>\n",
       "      <td>100</td>\n",
       "    </tr>\n",
       "    <tr>\n",
       "      <th>2</th>\n",
       "      <td>person 3</td>\n",
       "      <td>34</td>\n",
       "    </tr>\n",
       "    <tr>\n",
       "      <th>3</th>\n",
       "      <td>person 4</td>\n",
       "      <td>456</td>\n",
       "    </tr>\n",
       "    <tr>\n",
       "      <th>4</th>\n",
       "      <td>person 5</td>\n",
       "      <td>67</td>\n",
       "    </tr>\n",
       "  </tbody>\n",
       "</table>\n",
       "</div>"
      ],
      "text/plain": [
       "       name  age\n",
       "0  person 1   35\n",
       "1  person 2  100\n",
       "2  person 3   34\n",
       "3  person 4  456\n",
       "4  person 5   67"
      ]
     },
     "execution_count": 60,
     "metadata": {},
     "output_type": "execute_result"
    }
   ],
   "source": [
    "df[[\"name\",\"age\"]]      accessing data from more than 1 column, use 2 brackets, from 1 column use 1 sqr bracket"
   ]
  },
  {
   "cell_type": "code",
   "execution_count": 100,
   "id": "573dfd7c-047b-4f35-b6ab-53fb8bc17557",
   "metadata": {},
   "outputs": [],
   "source": [
    "df[\"age\"], df[\"salary\"]=df[\"age\"]+1, df[\"salary\"]+500     # addying 1 to age and adding 500 to salaries"
   ]
  },
  {
   "cell_type": "code",
   "execution_count": 101,
   "id": "368ea301-49b5-4794-9d9f-e015888fc2c1",
   "metadata": {},
   "outputs": [
    {
     "data": {
      "text/html": [
       "<div>\n",
       "<style scoped>\n",
       "    .dataframe tbody tr th:only-of-type {\n",
       "        vertical-align: middle;\n",
       "    }\n",
       "\n",
       "    .dataframe tbody tr th {\n",
       "        vertical-align: top;\n",
       "    }\n",
       "\n",
       "    .dataframe thead th {\n",
       "        text-align: right;\n",
       "    }\n",
       "</style>\n",
       "<table border=\"1\" class=\"dataframe\">\n",
       "  <thead>\n",
       "    <tr style=\"text-align: right;\">\n",
       "      <th></th>\n",
       "      <th>name</th>\n",
       "      <th>age</th>\n",
       "      <th>salary</th>\n",
       "    </tr>\n",
       "  </thead>\n",
       "  <tbody>\n",
       "    <tr>\n",
       "      <th>0</th>\n",
       "      <td>person 1</td>\n",
       "      <td>4004</td>\n",
       "      <td>4502</td>\n",
       "    </tr>\n",
       "    <tr>\n",
       "      <th>1</th>\n",
       "      <td>person 2</td>\n",
       "      <td>5004</td>\n",
       "      <td>5502</td>\n",
       "    </tr>\n",
       "    <tr>\n",
       "      <th>2</th>\n",
       "      <td>person 3</td>\n",
       "      <td>6004</td>\n",
       "      <td>6502</td>\n",
       "    </tr>\n",
       "    <tr>\n",
       "      <th>3</th>\n",
       "      <td>person 4</td>\n",
       "      <td>7004</td>\n",
       "      <td>7502</td>\n",
       "    </tr>\n",
       "    <tr>\n",
       "      <th>4</th>\n",
       "      <td>person 5</td>\n",
       "      <td>8004</td>\n",
       "      <td>8502</td>\n",
       "    </tr>\n",
       "  </tbody>\n",
       "</table>\n",
       "</div>"
      ],
      "text/plain": [
       "       name   age  salary\n",
       "0  person 1  4004    4502\n",
       "1  person 2  5004    5502\n",
       "2  person 3  6004    6502\n",
       "3  person 4  7004    7502\n",
       "4  person 5  8004    8502"
      ]
     },
     "execution_count": 101,
     "metadata": {},
     "output_type": "execute_result"
    }
   ],
   "source": [
    "df"
   ]
  },
  {
   "cell_type": "code",
   "execution_count": 102,
   "id": "74135702-6ff3-43e2-9130-6b646b5a2381",
   "metadata": {},
   "outputs": [
    {
     "data": {
      "text/html": [
       "<div>\n",
       "<style scoped>\n",
       "    .dataframe tbody tr th:only-of-type {\n",
       "        vertical-align: middle;\n",
       "    }\n",
       "\n",
       "    .dataframe tbody tr th {\n",
       "        vertical-align: top;\n",
       "    }\n",
       "\n",
       "    .dataframe thead th {\n",
       "        text-align: right;\n",
       "    }\n",
       "</style>\n",
       "<table border=\"1\" class=\"dataframe\">\n",
       "  <thead>\n",
       "    <tr style=\"text-align: right;\">\n",
       "      <th></th>\n",
       "      <th>name</th>\n",
       "      <th>age</th>\n",
       "      <th>salary</th>\n",
       "    </tr>\n",
       "  </thead>\n",
       "  <tbody>\n",
       "    <tr>\n",
       "      <th>0</th>\n",
       "      <td>person 1</td>\n",
       "      <td>4004</td>\n",
       "      <td>4502</td>\n",
       "    </tr>\n",
       "    <tr>\n",
       "      <th>1</th>\n",
       "      <td>person 2</td>\n",
       "      <td>5004</td>\n",
       "      <td>5502</td>\n",
       "    </tr>\n",
       "    <tr>\n",
       "      <th>2</th>\n",
       "      <td>person 3</td>\n",
       "      <td>6004</td>\n",
       "      <td>6502</td>\n",
       "    </tr>\n",
       "    <tr>\n",
       "      <th>3</th>\n",
       "      <td>person 4</td>\n",
       "      <td>7004</td>\n",
       "      <td>7502</td>\n",
       "    </tr>\n",
       "    <tr>\n",
       "      <th>4</th>\n",
       "      <td>person 5</td>\n",
       "      <td>8004</td>\n",
       "      <td>8502</td>\n",
       "    </tr>\n",
       "  </tbody>\n",
       "</table>\n",
       "</div>"
      ],
      "text/plain": [
       "       name   age  salary\n",
       "0  person 1  4004    4502\n",
       "1  person 2  5004    5502\n",
       "2  person 3  6004    6502\n",
       "3  person 4  7004    7502\n",
       "4  person 5  8004    8502"
      ]
     },
     "execution_count": 102,
     "metadata": {},
     "output_type": "execute_result"
    }
   ],
   "source": [
    "df"
   ]
  },
  {
   "cell_type": "code",
   "execution_count": null,
   "id": "0649adac-2786-49f9-815f-7d28811a0acb",
   "metadata": {},
   "outputs": [],
   "source": []
  },
  {
   "cell_type": "code",
   "execution_count": null,
   "id": "89598c28-bcf6-48d4-8332-b0f961a5c5df",
   "metadata": {},
   "outputs": [],
   "source": [
    "df [\"age\"]=df[\"age\"]+1"
   ]
  },
  {
   "cell_type": "code",
   "execution_count": 90,
   "id": "7cd8aabb-cf26-4953-b000-92ced08d53d5",
   "metadata": {},
   "outputs": [
    {
     "data": {
      "text/html": [
       "<div>\n",
       "<style scoped>\n",
       "    .dataframe tbody tr th:only-of-type {\n",
       "        vertical-align: middle;\n",
       "    }\n",
       "\n",
       "    .dataframe tbody tr th {\n",
       "        vertical-align: top;\n",
       "    }\n",
       "\n",
       "    .dataframe thead th {\n",
       "        text-align: right;\n",
       "    }\n",
       "</style>\n",
       "<table border=\"1\" class=\"dataframe\">\n",
       "  <thead>\n",
       "    <tr style=\"text-align: right;\">\n",
       "      <th></th>\n",
       "      <th>name</th>\n",
       "      <th>age</th>\n",
       "      <th>salary</th>\n",
       "    </tr>\n",
       "  </thead>\n",
       "  <tbody>\n",
       "    <tr>\n",
       "      <th>0</th>\n",
       "      <td>person 1</td>\n",
       "      <td>4003</td>\n",
       "      <td>4000</td>\n",
       "    </tr>\n",
       "    <tr>\n",
       "      <th>1</th>\n",
       "      <td>person 2</td>\n",
       "      <td>5003</td>\n",
       "      <td>5000</td>\n",
       "    </tr>\n",
       "    <tr>\n",
       "      <th>2</th>\n",
       "      <td>person 3</td>\n",
       "      <td>6003</td>\n",
       "      <td>6000</td>\n",
       "    </tr>\n",
       "    <tr>\n",
       "      <th>3</th>\n",
       "      <td>person 4</td>\n",
       "      <td>7003</td>\n",
       "      <td>7000</td>\n",
       "    </tr>\n",
       "    <tr>\n",
       "      <th>4</th>\n",
       "      <td>person 5</td>\n",
       "      <td>8003</td>\n",
       "      <td>8000</td>\n",
       "    </tr>\n",
       "  </tbody>\n",
       "</table>\n",
       "</div>"
      ],
      "text/plain": [
       "       name   age  salary\n",
       "0  person 1  4003    4000\n",
       "1  person 2  5003    5000\n",
       "2  person 3  6003    6000\n",
       "3  person 4  7003    7000\n",
       "4  person 5  8003    8000"
      ]
     },
     "execution_count": 90,
     "metadata": {},
     "output_type": "execute_result"
    }
   ],
   "source": [
    "df"
   ]
  },
  {
   "cell_type": "code",
   "execution_count": 92,
   "id": "ba6ed0dd-8caf-40ae-adcf-07fc1ef7698f",
   "metadata": {},
   "outputs": [],
   "source": [
    "df[\"salary\"] =df[\"salary\"] +1"
   ]
  },
  {
   "cell_type": "code",
   "execution_count": 93,
   "id": "6c1e3111-76d3-45ac-87f9-90e39fc4539c",
   "metadata": {},
   "outputs": [
    {
     "data": {
      "text/plain": [
       "0    4002\n",
       "1    5002\n",
       "2    6002\n",
       "3    7002\n",
       "4    8002\n",
       "Name: salary, dtype: int64"
      ]
     },
     "execution_count": 93,
     "metadata": {},
     "output_type": "execute_result"
    }
   ],
   "source": [
    "df[\"salary\"]"
   ]
  },
  {
   "cell_type": "code",
   "execution_count": 88,
   "id": "501d837d-3a73-43ab-a673-01ad52108529",
   "metadata": {},
   "outputs": [
    {
     "data": {
      "text/plain": [
       "name      object\n",
       "age        int64\n",
       "salary     int64\n",
       "dtype: object"
      ]
     },
     "execution_count": 88,
     "metadata": {},
     "output_type": "execute_result"
    }
   ],
   "source": [
    "df.dtypes      # keys converted to columns   # object-are strings"
   ]
  },
  {
   "cell_type": "code",
   "execution_count": null,
   "id": "0bcad064-8a80-43d9-a217-33968dd0314a",
   "metadata": {},
   "outputs": [],
   "source": []
  },
  {
   "cell_type": "code",
   "execution_count": null,
   "id": "dfff656c-ae56-4637-b6fd-94a1db6113bc",
   "metadata": {},
   "outputs": [],
   "source": []
  },
  {
   "cell_type": "code",
   "execution_count": null,
   "id": "7b430a37-9644-4f9f-8eca-69f030c8fb20",
   "metadata": {},
   "outputs": [],
   "source": []
  }
 ],
 "metadata": {
  "kernelspec": {
   "display_name": "Python 3 (ipykernel)",
   "language": "python",
   "name": "python3"
  },
  "language_info": {
   "codemirror_mode": {
    "name": "ipython",
    "version": 3
   },
   "file_extension": ".py",
   "mimetype": "text/x-python",
   "name": "python",
   "nbconvert_exporter": "python",
   "pygments_lexer": "ipython3",
   "version": "3.12.4"
  }
 },
 "nbformat": 4,
 "nbformat_minor": 5
}
